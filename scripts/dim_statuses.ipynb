{
 "cells": [
  {
   "cell_type": "code",
   "execution_count": null,
   "metadata": {},
   "outputs": [],
   "source": [
    "unique_statuses = data_frame['status_name'].drop_duplicates().reset_index(drop=True)\n",
    "df_status_dim = pd.DataFrame({\n",
    "    'status_id': np.arange(1, len(unique_statuses) + 1),\n",
    "    'status_name': sorted(unique_statuses)\n",
    "})\n"
   ]
  }
 ],
 "metadata": {
  "language_info": {
   "name": "python"
  }
 },
 "nbformat": 4,
 "nbformat_minor": 2
}
