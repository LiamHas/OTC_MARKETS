{
 "cells": [
  {
   "cell_type": "code",
   "execution_count": null,
   "metadata": {},
   "outputs": [],
   "source": [
    "df_date_dim = pd.DataFrame({\n",
    "    'date_id': np.arange(1, len(data_frame['date'].unique()) + 1),\n",
    "    'dateisoformat': pd.to_datetime(data_frame['date']).dt.date\n",
    "})\n",
    "df_date_dim['yearnumber'] = pd.to_datetime(data_frame['date']).dt.year\n",
    "df_date_dim['quarternumber'] = pd.to_datetime(data_frame['date']).dt.quarter\n",
    "df_date_dim['monthnumber'] = pd.to_datetime(data_frame['date']).dt.month\n",
    "df_date_dim['monthname'] = pd.to_datetime(data_frame['date']).dt.strftime('%B')\n",
    "df_date_dim['weekofmonth'] = df_date_dim['dateisoformat'].apply(lambda x: (x.day - 1) // 7 + 1)\n",
    "df_date_dim['weekofyear'] = pd.to_datetime(data_frame['date']).dt.isocalendar().week\n",
    "df_date_dim['daynumber'] = pd.to_datetime(data_frame['date']).dt.day\n",
    "df_date_dim['dayofweek'] = pd.to_datetime(data_frame['date']).dt.weekday + 1\n",
    "df_date_dim['dayname'] = pd.to_datetime(data_frame['date']).dt.strftime('%A')\n"
   ]
  }
 ],
 "metadata": {
  "language_info": {
   "name": "python"
  }
 },
 "nbformat": 4,
 "nbformat_minor": 2
}
