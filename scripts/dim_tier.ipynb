{
 "cells": [
  {
   "cell_type": "code",
   "execution_count": null,
   "metadata": {},
   "outputs": [],
   "source": [
    "unique_tiers = data_frame['tier_name'].drop_duplicates().reset_index(drop=True)\n",
    "df_tier_dim = pd.DataFrame({\n",
    "    'tier_id': np.arange(1, len(unique_tiers) + 1),\n",
    "    'tier_name': sorted(unique_tiers)\n",
    "})"
   ]
  }
 ],
 "metadata": {
  "language_info": {
   "name": "python"
  }
 },
 "nbformat": 4,
 "nbformat_minor": 2
}
