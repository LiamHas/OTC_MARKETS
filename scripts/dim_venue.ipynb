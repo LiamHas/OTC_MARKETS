{
 "cells": [
  {
   "cell_type": "code",
   "execution_count": null,
   "metadata": {},
   "outputs": [],
   "source": [
    "unique_venues = data_frame['venue_name'].drop_duplicates().reset_index(drop=True)\n",
    "df_venue_dim = pd.DataFrame({\n",
    "    'venue_id': np.arange(1, len(unique_venues) + 1),\n",
    "    'venue_name': sorted(unique_venues)\n",
    "})"
   ]
  }
 ],
 "metadata": {
  "language_info": {
   "name": "python"
  }
 },
 "nbformat": 4,
 "nbformat_minor": 2
}
