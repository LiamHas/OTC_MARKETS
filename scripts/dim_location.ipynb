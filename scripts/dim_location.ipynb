{
 "cells": [
  {
   "cell_type": "code",
   "execution_count": null,
   "metadata": {},
   "outputs": [],
   "source": [
    "unique_locations = data_frame[['country', 'state']].drop_duplicates().reset_index(drop=True)\n",
    "df_location_dim = pd.DataFrame({\n",
    "    'location_id': np.arange(1, len(unique_locations) + 1),\n",
    "    'country': unique_locations['country'],\n",
    "    'state': unique_locations['state']\n",
    "})"
   ]
  }
 ],
 "metadata": {
  "language_info": {
   "name": "python"
  }
 },
 "nbformat": 4,
 "nbformat_minor": 2
}
